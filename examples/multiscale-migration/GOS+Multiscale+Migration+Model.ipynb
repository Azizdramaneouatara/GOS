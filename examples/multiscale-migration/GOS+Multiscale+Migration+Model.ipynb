{
 "cells": [
  {
   "cell_type": "markdown",
   "metadata": {},
   "source": [
    "# Multiscale Migration Model\n",
    "\n",
    "### Scroll down to \"Editing Variable Values\" after running all cells \n",
    "\n",
    "This notebook implements our model using `numpy`, `haversine`, and `pandas` (with `xlrd`). It has been tested to run on Python 3.6. To start, import the required libraries.\n"
   ]
  },
  {
   "cell_type": "code",
   "execution_count": null,
   "metadata": {},
   "outputs": [],
   "source": [
    "import os\n",
    "import sys\n",
    "working_directory = os.path.abspath('')\n",
    "sys.path.append(os.path.normpath(os.path.join(working_directory, \"..\", \"..\")))"
   ]
  },
  {
   "cell_type": "code",
   "execution_count": null,
   "metadata": {},
   "outputs": [],
   "source": [
    "# These libraries are used later to supply mathematical calculations.\n",
    "import numpy as np\n",
    "import pandas as pd\n",
    "from math import e\n",
    "from haversine import haversine\n",
    "import ipywidgets as widgets\n",
    "from ipywidgets import *\n",
    "# Visualizaton\n",
    "import matplotlib\n",
    "import matplotlib.pyplot as plt\n",
    "import gos\n",
    "from gos.visualization import map_plot\n",
    "%matplotlib inline\n",
    "# Reduce some visual clutter by only printing ten rows at a time.\n",
    "# This can be adjusted to match personal preferences.\n",
    "pd.set_option(\"display.max_rows\", 500)"
   ]
  },
  {
   "cell_type": "code",
   "execution_count": null,
   "metadata": {},
   "outputs": [],
   "source": [
    "plt.style.use('ggplot')"
   ]
  },
  {
   "cell_type": "markdown",
   "metadata": {},
   "source": [
    "The datasets used in the model are found in the `/data` subdirectory. Many are formatted as either CSV files or XLSX files."
   ]
  },
  {
   "cell_type": "code",
   "execution_count": null,
   "metadata": {},
   "outputs": [],
   "source": [
    "%ls ./data"
   ]
  },
  {
   "cell_type": "markdown",
   "metadata": {},
   "source": [
    "## Use this tool to change the skill level at which migration is studied \n"
   ]
  },
  {
   "cell_type": "code",
   "execution_count": null,
   "metadata": {},
   "outputs": [],
   "source": [
    "skill = IntSlider(min=0, max=100, value=90)\n",
    "display(skill)"
   ]
  },
  {
   "cell_type": "markdown",
   "metadata": {},
   "source": [
    "The following shortcut functions helps locate these data files easily."
   ]
  },
  {
   "cell_type": "code",
   "execution_count": null,
   "metadata": {},
   "outputs": [],
   "source": [
    "def file_path(name):\n",
    "    \"\"\"\n",
    "    Shortcut function to get the relative path to the directory\n",
    "    which contains the data.\n",
    "    \"\"\"\n",
    "    return \"./data/%s\" % name"
   ]
  },
  {
   "cell_type": "markdown",
   "metadata": {},
   "source": [
    "\n",
    "\n",
    "## Cleaning the data.\n",
    "\n",
    "In this step, we define some helper functions that will help all of our datasets talk to each other.\n",
    "\n"
   ]
  },
  {
   "cell_type": "code",
   "execution_count": null,
   "metadata": {},
   "outputs": [],
   "source": [
    "column_names = [\"Name\", \"Code\"]\n",
    "\n",
    "def country_codes():\n",
    "    \"\"\"\n",
    "    Build country rows from their names, ISO codes, and Numeric\n",
    "    Country Codes.\n",
    "    \"\"\"\n",
    "    cc = (\n",
    "        pd.read_csv(\n",
    "            file_path(\n",
    "                \"Country_List_ISO_3166_Codes_Latitude_Longitude.csv\"),\n",
    "            usecols=[0, 2, 3],\n",
    "            index_col=1,\n",
    "            keep_default_na=False))\n",
    "    #other_codes = pd.read_csv(file_path(\"other.csv\"), index_col=1)\n",
    "    \n",
    "    #\n",
    "    cc.columns = column_names\n",
    "    #cc.index.rename(\"Name\")\n",
    "    return cc #pd.concat([cc, other_codes])\n",
    "\n",
    "def other_codes():\n",
    "    other_codes = pd.read_csv(file_path(\"other.csv\"), index_col=1)\n",
    "    other_codes.columns = column_names[0:1]\n",
    "    return other_codes"
   ]
  },
  {
   "cell_type": "code",
   "execution_count": null,
   "metadata": {},
   "outputs": [],
   "source": [
    "world = gos.World(index=set(country_codes().index) | set(other_codes().index))"
   ]
  },
  {
   "cell_type": "code",
   "execution_count": null,
   "metadata": {},
   "outputs": [],
   "source": [
    "gos.Neighborhood.update(country_codes().groupby(\"Alpha-3 code\")[\"Name\"].apply(list).to_dict())\n",
    "gos.Neighborhood.update(other_codes().groupby('ISO')[\"Name\"].apply(list).to_dict())\n",
    "gos.Neighborhood.update(country_codes().groupby(\"Alpha-3 code\")[\"Code\"].apply(list).to_dict())"
   ]
  },
  {
   "cell_type": "markdown",
   "metadata": {},
   "source": [
    "<font color=red>\n",
    "    \n",
    "# Importing Data\n",
    "\n",
    "### Freedom Index\n",
    "\n",
    "The [Freedom Index](https://freedomhouse.org/report/freedom-world/freedom-world-2017) comes from Freedom House. \n",
    "\n",
    "A high freedom index score indicates a politically free country \n",
    "</font>\n"
   ]
  },
  {
   "cell_type": "code",
   "execution_count": null,
   "metadata": {},
   "outputs": [],
   "source": [
    "def freedom_index():\n",
    "    \"\"\"\n",
    "    Read data from the Freedom Index.\n",
    "    \"\"\"\n",
    "    # TODO: Add xlrd to requirements.\n",
    "    xl = pd.ExcelFile(file_path(\"Freedom_index.xlsx\"))\n",
    "    xl = xl.parse(1)\n",
    "    xl.set_index(\"Country\")\n",
    "    return xl\n",
    "\n",
    "fi = freedom_index().set_index(\"Country\")\n",
    "fi.columns = [\"Freedom Index\"]\n",
    "fi.plot.hist(bins=10)\n",
    "#print(len(fi))"
   ]
  },
  {
   "cell_type": "markdown",
   "metadata": {},
   "source": [
    "<font color=red>\n",
    "\n",
    "### A/B Values\n",
    "\n",
    "These values are used in the return to skill function. These values are based on each country's income distribution.\n",
    "</font>"
   ]
  },
  {
   "cell_type": "code",
   "execution_count": null,
   "metadata": {},
   "outputs": [],
   "source": [
    "def ab_values():\n",
    "    \"\"\"\n",
    "    Read generated A/B values for each country.\n",
    "    \"\"\"\n",
    "    return pd.read_excel(file_path(\"A&B values for RTS.xlsx\"))\n",
    "\n",
    "ab = ab_values()\n",
    "ab = ab.set_index(\"Country\")\n",
    "#ab.info()\n",
    "#print(ab)\n",
    "ab.plot.hist(subplots=True, sharex=False)"
   ]
  },
  {
   "cell_type": "markdown",
   "metadata": {},
   "source": [
    "<font color=red>\n",
    "    \n",
    "### Passport Index\n",
    "\n",
    "The [Passport Index](https://www.cato.org/human-freedom-index) comes from Arton Capital. \n",
    "\n",
    "A low passport index indicates a welcoming country. \n",
    "</font>"
   ]
  },
  {
   "cell_type": "code",
   "execution_count": null,
   "metadata": {},
   "outputs": [],
   "source": [
    "def passport_index():\n",
    "    \"\"\"\n",
    "    Read data from the Passport Index.\n",
    "    \"\"\"\n",
    "    pi = pd.read_excel(file_path(\"PassportIndex.xlsx\"))\n",
    "    pi = pi.set_index(\"Country\")\n",
    "    pi.columns = [\"Passport Index\"]\n",
    "    return pi\n",
    "\n",
    "pi = passport_index()\n",
    "pi.plot.hist()"
   ]
  },
  {
   "cell_type": "markdown",
   "metadata": {},
   "source": [
    "<font color=red>\n",
    "\n",
    "## Unemployment\n",
    "\n",
    "</font>"
   ]
  },
  {
   "cell_type": "code",
   "execution_count": null,
   "metadata": {},
   "outputs": [],
   "source": [
    "unemployment_data = pd.read_csv(file_path(\"CIA_Unemployment.csv\"), index_col=0, usecols=[1, 2])\n",
    "unemployment_data[\"Unemployment\"] /= 100\n",
    "unemployment_data.plot.hist()"
   ]
  },
  {
   "cell_type": "markdown",
   "metadata": {},
   "source": [
    "<font color=red>\n",
    "\n",
    "## Population\n",
    "\n",
    "</font>"
   ]
  },
  {
   "cell_type": "code",
   "execution_count": null,
   "metadata": {},
   "outputs": [],
   "source": [
    "# Population\n",
    "population = pd.read_csv(file_path(\"newPOP.csv\"))\n",
    "population = population.set_index(\"Country\")\n",
    "population"
   ]
  },
  {
   "cell_type": "code",
   "execution_count": null,
   "metadata": {},
   "outputs": [],
   "source": [
    "world.update_neighborhoods(ab)\n",
    "world.update_neighborhoods(pi)\n",
    "world.update_neighborhoods(unemployment_data)\n",
    "world.update_neighborhoods(population)\n",
    "world.update_neighborhoods(fi)"
   ]
  },
  {
   "cell_type": "markdown",
   "metadata": {},
   "source": [
    "<font color=red>\n",
    "\n",
    "## Shared Language\n",
    "\n",
    "Agents are assigned proficiency in languages spoken in their origin country. Moving to a country with entirely new languages presents a higher migration cost. \n",
    "\n",
    "\\begin{equation}\n",
    "    L_{O\\leftrightarrow D}\\ = \n",
    "    \\begin{cases}\n",
    "        0 & \\text{if origin and destination share a spoken language} \\\\\n",
    "        1 & \\text{otherwise} \\\\\n",
    "    \\end{cases}\n",
    "\\end{equation}\n",
    "\n",
    "</font>"
   ]
  },
  {
   "cell_type": "code",
   "execution_count": null,
   "metadata": {},
   "outputs": [],
   "source": [
    "lang_csv = pd.read_csv(file_path(\"languages.csv\"), index_col=0)\n",
    "lang_sets = [set([str(y).strip() for y in x[1] if y is not ' ']) for x in lang_csv.iterrows()]\n",
    "overlap = []\n",
    "for s in lang_sets:\n",
    "    o = []\n",
    "    for i in range(len(lang_sets)):\n",
    "        o.append(len(lang_sets[i].intersection(s)) >= 1)\n",
    "    overlap.append(o)\n",
    "lang_data = pd.DataFrame(overlap, index=lang_csv.index, columns=lang_csv.index)\n",
    "print(len(lang_data))\n",
    "world.add_matrix(\"language\", 1-lang_data)"
   ]
  },
  {
   "cell_type": "markdown",
   "metadata": {},
   "source": [
    "<font color=red>\n",
    "\n",
    "## UN Migration History\n",
    "\n",
    "</font>"
   ]
  },
  {
   "cell_type": "code",
   "execution_count": null,
   "metadata": {},
   "outputs": [],
   "source": [
    "un_pd = pd.read_excel(\n",
    "        file_path(\n",
    "            \"UN_MigrantStockByOriginAndDestination_2015.xlsx\"\n",
    "        ),\n",
    "        skiprows=15\n",
    "    )\n",
    "un_pd = un_pd.set_index('Unnamed: 1')\n",
    "un_pd = un_pd.iloc[0:275,7:250]\n",
    "\n",
    "# TODO: Should we be using the UN numbers for this?\n",
    "un_pd = un_pd.sort_index().fillna(1)\n",
    "world.add_matrix(\"un\", un_pd)"
   ]
  },
  {
   "cell_type": "markdown",
   "metadata": {},
   "source": [
    "<font color=blue>\n",
    "\n",
    "# Calculations\n",
    "\n",
    "</font>"
   ]
  },
  {
   "cell_type": "markdown",
   "metadata": {},
   "source": [
    "<font color=blue>\n",
    "\n",
    "## Distance\n",
    "\n",
    "The great circle distance between the average latitude and longitude of each country is used to determine distance between each pair of countries. A greater distance between countries corresponds to a greater cost of migration.\n",
    "\n",
    "</font>"
   ]
  },
  {
   "cell_type": "code",
   "execution_count": null,
   "metadata": {},
   "outputs": [],
   "source": [
    "distance_frame = pd.read_csv(\n",
    "    file_path(\"Country_List_ISO_3166_Codes_Latitude_Longitude.csv\"),\n",
    "    usecols=[2,4,5],\n",
    "    index_col=0,\n",
    "    keep_default_na=False)\n",
    "locations = [(x[1][0], x[1][1]) for x in distance_frame.iterrows()]\n",
    "rows = []\n",
    "for i in range(len(locations)):\n",
    "    row = []\n",
    "    for loc in locations:\n",
    "        row.append(haversine(loc, locations[i]))\n",
    "    rows.append(row)\n",
    "distance = pd.DataFrame(rows, distance_frame.index, distance_frame.index)\n",
    "world.add_matrix(\"distance\", distance / distance.max().max())"
   ]
  },
  {
   "cell_type": "markdown",
   "metadata": {},
   "source": [
    "<font color=blue>\n",
    "\n",
    "# Editing Variable Values \n",
    "Remove the \"#\" and change the values to best simulate your scenario \n",
    "\n",
    "To reset values, run all cells above \n",
    "\n",
    "</font>"
   ]
  },
  {
   "cell_type": "code",
   "execution_count": null,
   "metadata": {},
   "outputs": [],
   "source": [
    "pd.options.mode.chained_assignment = None  # default='warn'\n",
    "\n",
    "world.data[\"Freedom Index\"][\"AUS\"]=50\n",
    "#world.data[\"Passport Index\"][\"AUS\"]=80\n",
    "#world.data[\"Unemployment\"][\"AUS\"]=.058\n",
    "#world.data[\"Population\"][\"AUS\"]=8000000\n",
    "#world.matrices[\"un\"][\"AUS\"][\"USA\"]=77845"
   ]
  },
  {
   "cell_type": "markdown",
   "metadata": {},
   "source": [
    "<font color=blue>\n",
    "\n",
    "## Calculate \"RTS\".\n",
    "This function measures income potential in a given country based on an agent's skill level (x). \n",
    "\n",
    "It takes the form: \n",
    "\\begin{equation}\n",
    "Ae^{Bx}\n",
    "\\end{equation}\n",
    "Where A and B are constants unique to each country \n",
    "\n",
    "</font>"
   ]
  },
  {
   "cell_type": "code",
   "execution_count": null,
   "metadata": {},
   "outputs": [],
   "source": [
    "world.update_neighborhoods(pd.Series(world.data[\"A\"] * e ** (world.data[\"B\"] * skill.value)), \"rts\")"
   ]
  },
  {
   "cell_type": "markdown",
   "metadata": {},
   "source": [
    "<font color=blue>\n",
    "\n",
    "## Country Beta Values\n",
    "\n",
    "</font>"
   ]
  },
  {
   "cell_type": "code",
   "execution_count": null,
   "metadata": {},
   "outputs": [],
   "source": [
    "world.update_neighborhoods(pd.Series(world.data[\"A\"] * e ** (world.data[\"B\"] * 30)), \"beta\")"
   ]
  },
  {
   "cell_type": "markdown",
   "metadata": {},
   "source": [
    "<font color=blue>\n",
    "\n",
    "\n",
    "## Freedom Index difference \n",
    "\\begin{equation}\n",
    "\\frac{FI_D-FI_O}{100}\n",
    "\\end{equation}\n",
    "\n",
    "This value weighs the origin and destination FI values against eachother. \n",
    "\n",
    "</font>"
   ]
  },
  {
   "cell_type": "code",
   "execution_count": null,
   "metadata": {},
   "outputs": [],
   "source": [
    "rows=[]\n",
    "for i in range(len(world.data[\"Freedom Index\"])):\n",
    "    row = []\n",
    "    for freedom_index in world.data[\"Freedom Index\"]:\n",
    "        diff=(freedom_index-(world.data[\"Freedom Index\"][i]))/100.0\n",
    "        row.append(diff)\n",
    "    rows.append(row)\n",
    "fi_diff = (pd.DataFrame(rows, world.data[\"Freedom Index\"].index, world.data[\"Freedom Index\"].index))\n",
    "print(fi_diff)"
   ]
  },
  {
   "cell_type": "markdown",
   "metadata": {},
   "source": [
    "<font color=blue>\n",
    "\n",
    "\n",
    "## Political Barriers\n",
    "$$  PB = \\delta_1 \\frac{PIR_{D}}{100} +  \\delta_2 (1-\\frac{(FI_D-FI_O)}{100}) $$\n",
    "\n",
    "Political barriers combines passport index rank (PIR) and freedom index scores (FI) for each country. The greater the value, the higher the cost of migration. \n",
    "\n",
    "<font color=blue>\n"
   ]
  },
  {
   "cell_type": "code",
   "execution_count": null,
   "metadata": {},
   "outputs": [],
   "source": [
    "delta1=.5\n",
    "delta2=.25\n",
    "political_barriers=delta1*world.data[\"Passport Index\"]/100.0 + delta2*(1 - fi_diff)\n",
    "print(political_barriers)\n"
   ]
  },
  {
   "cell_type": "code",
   "execution_count": null,
   "metadata": {},
   "outputs": [],
   "source": [
    "world.add_matrix(\"Political Barriers\", political_barriers)"
   ]
  },
  {
   "cell_type": "markdown",
   "metadata": {},
   "source": [
    "<font color=blue>\n",
    "\n",
    "\n",
    "## Migration History \n",
    "Out Migration:  \n",
    "\\begin{equation} OM_{O\\rightarrow D}\\ = \\frac {\\text {migrants from origin in destination}} {\\text {population of origin}} \\end{equation}\n",
    "\n",
    "Ethnic Enclave: \n",
    "\\begin{equation} EE_{O\\leftrightarrow D}\\ = \\frac {\\text{migrants from origin in destination}} {\\text {population of destination.}} \\end{equation}\n",
    "\n",
    "Migration History:\n",
    "\\begin{equation}\n",
    "MH_{O\\rightarrow D}\\ = \\gamma_1 (1-OM_{O\\rightarrow D})\\ + \\gamma_2 (1-EE_{O\\rightarrow D}) \n",
    "\\end{equation}\n",
    "\n",
    "</font>"
   ]
  },
  {
   "cell_type": "code",
   "execution_count": null,
   "metadata": {},
   "outputs": [],
   "source": [
    "gamma1=.5\n",
    "gamma2=.5\n",
    "OM=world.matrices['un'].sort_index(axis=1).sort_index(axis=0)/world.data['Population']\n",
    "#transpose UN matrix for this calculation so that we are dividing by population of destination \n",
    "EE=world.matrices['un'].T.sort_index(axis=1).sort_index(axis=0)/world.data['Population']\n",
    "EE=EE.T\n",
    "MH=gamma1*(OM)+gamma2*(EE)\n",
    "#print(MH)\n",
    "max_MH = MH.max().nlargest(10).mean()\n",
    "#print(max_MH)\n",
    "MH = 1 - (MH/max_MH)\n",
    "MH[MH<0] = 0\n",
    "print(MH)"
   ]
  },
  {
   "cell_type": "code",
   "execution_count": null,
   "metadata": {},
   "outputs": [],
   "source": [
    "world.add_matrix(\"Migration History\", MH)"
   ]
  },
  {
   "cell_type": "markdown",
   "metadata": {},
   "source": [
    "<font color=blue>\n",
    "\n",
    "\n",
    "# Cost\n",
    "\n",
    "</font>\n"
   ]
  },
  {
   "cell_type": "markdown",
   "metadata": {},
   "source": [
    "<font color=blue>\n",
    "\n",
    "\n",
    "The cost of migration between an origin and destination is the weighted average of the distance, migration history, shared language and political barriers between the two countries. \n",
    "\\begin{equation}\n",
    "C = { \\alpha_1 \\frac{D_{O\\leftrightarrow D}} {D_{Max}} + \\alpha_2 MH_{O\\rightarrow D}  + \\alpha_3 L_{O\\leftrightarrow D} + \\alpha_4 PB}\n",
    "\\end{equation}\n",
    "\n",
    "</font>"
   ]
  },
  {
   "cell_type": "code",
   "execution_count": null,
   "metadata": {},
   "outputs": [],
   "source": [
    "# Cost\n",
    "alpha1=.35\n",
    "alpha2=.35\n",
    "alpha3=.15\n",
    "alpha4=.15\n",
    "c = (alpha1*world.matrices[\"distance\"] +\n",
    "     alpha2*world.matrices[\"Migration History\"] +\n",
    "     alpha3*world.matrices[\"language\"] +\n",
    "     alpha4*world.matrices[\"Political Barriers\"])\n",
    "world.add_matrix(\"cost\", c * world.data['beta'])"
   ]
  },
  {
   "cell_type": "code",
   "execution_count": null,
   "metadata": {
    "scrolled": true
   },
   "outputs": [],
   "source": [
    "map_plot(world.matrices[\"cost\"][\"SYR\"], title=\"Costs (SYR)\")"
   ]
  },
  {
   "cell_type": "code",
   "execution_count": null,
   "metadata": {},
   "outputs": [],
   "source": [
    "map_plot(world.matrices[\"cost\"][\"FRA\"], title=\"Costs (FRA)\")"
   ]
  },
  {
   "cell_type": "code",
   "execution_count": null,
   "metadata": {},
   "outputs": [],
   "source": [
    "world.update_neighborhoods((1 - world.data[\"Unemployment\"]) * world.data[\"rts\"], \"wages\")"
   ]
  },
  {
   "cell_type": "code",
   "execution_count": null,
   "metadata": {},
   "outputs": [],
   "source": [
    "map_plot(world.data[\"wages\"], title=\"Wages\")"
   ]
  },
  {
   "cell_type": "code",
   "execution_count": null,
   "metadata": {},
   "outputs": [],
   "source": [
    "#beta = world.data.rts.mean()\n",
    "#beta = RTS_list.median()\n",
    "\n",
    "world.add_matrix(\"migration\", (pd.DataFrame(\n",
    "    np.array(\n",
    "        [[x] * len(world.data) for x in world.data[\"wages\"].values]\n",
    "    ) - np.array(\n",
    "        [list(world.data[\"wages\"].values)] * len(world.data)\n",
    "    ),\n",
    "    world.data.index,\n",
    "    world.data.index\n",
    "    )  - world.matrices[\"cost\"]).clip(lower=0))\n",
    "world.matrices[\"migration\"] = world.matrices[\"migration\"] / (world.matrices[\"migration\"].sum() + 1)\n",
    "world.matrices[\"migration\"] = world.matrices[\"migration\"] / world.matrices[\"migration\"].sum(axis=1).max()\n",
    "\n",
    "# TODO: Why does this require being transposed?\n",
    "world.matrices[\"migration\"] = (0.15 * world.matrices[\"migration\"].transpose() * world.data[\"Population\"]).transpose()\n",
    "\n",
    "world.matrices[\"migration\"]"
   ]
  },
  {
   "cell_type": "code",
   "execution_count": null,
   "metadata": {},
   "outputs": [],
   "source": [
    "#map_plot(\n",
    "#    world.matrices[\"migration\"].sum(axis=1)+1,\n",
    "#    title=\"Immigration Estimations (x={})\".format(skill.value),\n",
    "#    normc=matplotlib.colors.LogNorm\n",
    "#)"
   ]
  },
  {
   "cell_type": "code",
   "execution_count": null,
   "metadata": {},
   "outputs": [],
   "source": [
    "#map_plot(\n",
    "#    world.matrices[\"migration\"].sum(),\n",
    "#    title=\"Estimated Number of Emigrants (x={})\".format(skill.value),\n",
    "#    normc=matplotlib.colors.Normalize\n",
    "#)"
   ]
  },
  {
   "cell_type": "code",
   "execution_count": null,
   "metadata": {},
   "outputs": [],
   "source": [
    "#map_plot(\n",
    "#    world.matrices[\"migration\"].sum(axis=1) - world.matrices[\"migration\"].sum(),\n",
    "#    title=\"Net Migration (x={})\".format(skill.value),\n",
    "#    normc=gos.visualization.MidPointNorm\n",
    "#)"
   ]
  },
  {
   "cell_type": "markdown",
   "metadata": {},
   "source": [
    "<font color=purple>\n",
    "\n",
    "\n",
    "# Exporting Data\n",
    "\n",
    "</font>"
   ]
  },
  {
   "cell_type": "markdown",
   "metadata": {},
   "source": [
    "<font color=purple>\n",
    "\n",
    "Defining Vectors\n",
    "\n",
    "</font>"
   ]
  },
  {
   "cell_type": "code",
   "execution_count": null,
   "metadata": {},
   "outputs": [],
   "source": [
    "immigration = world.matrices[\"migration\"].sum(axis=1)+1\n",
    "emigration = world.matrices[\"migration\"].sum()\n",
    "net_migration = world.matrices[\"migration\"].sum(axis=1) - world.matrices[\"migration\"].sum()"
   ]
  },
  {
   "cell_type": "markdown",
   "metadata": {},
   "source": [
    "<font color=purple>\n",
    "\n",
    "\n",
    "- To export the following data, remove the \"#\" and run the cell. \n",
    "- The excel files will appear in the data folder under multiscale-migration. \n",
    "- Change the file names (in red) everytime you want to create a spreadsheet with new results. Otherwise new changes will override the original spreadsheets. \n",
    "\n",
    "</font>"
   ]
  },
  {
   "cell_type": "code",
   "execution_count": null,
   "metadata": {},
   "outputs": [],
   "source": [
    "%cd ~/Public/GOS/examples/multiscale-migration/data\n",
    "immigration.to_excel(\"immigration.xlsx\")\n",
    "emigration.to_excel(\"emigration.xlsx\")\n",
    "net_migration.to_excel(\"net_migration.xlsx\")"
   ]
  },
  {
   "cell_type": "code",
   "execution_count": null,
   "metadata": {},
   "outputs": [],
   "source": []
  }
 ],
 "metadata": {
  "kernelspec": {
   "display_name": "Python 3.8",
   "language": "python",
   "name": "python3"
  },
  "language_info": {
   "codemirror_mode": {
    "name": "ipython",
    "version": 3
   },
   "file_extension": ".py",
   "mimetype": "text/x-python",
   "name": "python",
   "nbconvert_exporter": "python",
   "pygments_lexer": "ipython3",
   "version": "3.8.2"
  }
 },
 "nbformat": 4,
 "nbformat_minor": 4
}
