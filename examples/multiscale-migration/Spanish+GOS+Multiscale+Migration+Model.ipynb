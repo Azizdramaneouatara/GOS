{
 "cells": [
  {
   "cell_type": "markdown",
   "metadata": {},
   "source": [
    "# Modelo de migración multiescala\n",
    "\n",
    "### Después de ejecutar todas las celdas, desplácese hacia abajo hasta llegar a \"Editing Variable Values\"\n",
    "\n",
    "Este cuaderno implementa nuestro modelo usando `numpy`, `haversine` y `pandas` (con\n",
    "xlrd). Ha sido probado para funcionar en Python 3.10. Para comenzar, importa las\n",
    "librerías necesarias."
   ]
  },
  {
   "cell_type": "code",
   "execution_count": null,
   "metadata": {},
   "outputs": [],
   "source": [
    "# When prompted, allow Google Colab to access your Google Drive. It will\n",
    "# clone a copy of the GOS GitHub repository into your Google Drive.\n",
    "\n",
    "from google.colab import drive\n",
    "drive.mount('/content/gdrive')\n",
    "%cd /content/gdrive/My Drive\n",
    "!git clone https://github.com/crcresearch/GOS\n",
    "%cd GOS\n",
    "!pip install -r requirements.txt\n",
    "!pip install shapely==1.8.0\n",
    "!pre-commit install\n",
    "%cd examples/multiscale-migration"
   ]
  },
  {
   "cell_type": "code",
   "execution_count": null,
   "metadata": {},
   "outputs": [],
   "source": [
    "import os\n",
    "import sys\n",
    "working_directory = os.path.abspath('')\n",
    "sys.path.append(os.path.normpath(os.path.join(working_directory, \"..\", \"..\")))"
   ]
  },
  {
   "cell_type": "code",
   "execution_count": null,
   "metadata": {},
   "outputs": [],
   "source": [
    "# This library should be used to disable warnings during student use.  Turn on warnings when developing.\n",
    "import warnings\n",
    "warnings.filterwarnings('ignore')\n",
    "#warnings.filterwarnings(action='once')"
   ]
  },
  {
   "cell_type": "code",
   "execution_count": null,
   "metadata": {},
   "outputs": [],
   "source": [
    "# These libraries are used later to supply mathematical calculations.\n",
    "import numpy as np\n",
    "import pandas as pd\n",
    "from math import e\n",
    "from haversine import haversine\n",
    "import ipywidgets as widgets\n",
    "from ipywidgets import *\n",
    "# Visualizaton\n",
    "import matplotlib\n",
    "import matplotlib.pyplot as plt\n",
    "import gos\n",
    "from gos.visualization import map_plot\n",
    "%matplotlib inline\n",
    "# Reduce some visual clutter by only printing ten rows at a time.\n",
    "# This can be adjusted to match personal preferences.\n",
    "pd.set_option(\"display.max_rows\", 10)"
   ]
  },
  {
   "cell_type": "code",
   "execution_count": null,
   "metadata": {},
   "outputs": [],
   "source": [
    "plt.style.use('ggplot')"
   ]
  },
  {
   "cell_type": "markdown",
   "metadata": {},
   "source": [
    "Los conjuntos de datos utilizados en el modelo se encuentran en el subdirectorio\n",
    "`/data`. Muchos están en formato CSV o XLSX."
   ]
  },
  {
   "cell_type": "code",
   "execution_count": null,
   "metadata": {},
   "outputs": [],
   "source": [
    "print('\\n'.join(os.listdir('data')))"
   ]
  },
  {
   "cell_type": "markdown",
   "metadata": {},
   "source": [
    "## Utilice esta herramienta para cambiar el nivel en el que se estudia la migración\n"
   ]
  },
  {
   "cell_type": "code",
   "execution_count": null,
   "metadata": {},
   "outputs": [],
   "source": [
    "skill = IntSlider(min=0, max=100, value=100)"
   ]
  },
  {
   "cell_type": "markdown",
   "metadata": {},
   "source": [
    "Las siguientes funciones de acceso directo ayudan a localizar estos archivos de\n",
    "datos fácilmente."
   ]
  },
  {
   "cell_type": "code",
   "execution_count": null,
   "metadata": {},
   "outputs": [],
   "source": [
    "def file_path(name):\n",
    "    \"\"\"\n",
    "    Shortcut function to get the relative path to the directory\n",
    "    which contains the data.\n",
    "    \"\"\"\n",
    "    return \"./data/%s\" % name"
   ]
  },
  {
   "cell_type": "markdown",
   "metadata": {},
   "source": [
    "## Limpieza de los datos\n",
    "\n",
    "En este paso, definimos algunas funciones auxiliares que ayudarán a que todos los conjuntos de datos se puedan comunicar entre sí."
   ]
  },
  {
   "cell_type": "code",
   "execution_count": null,
   "metadata": {},
   "outputs": [],
   "source": [
    "column_names = [\"Name\", \"Code\"]\n",
    "\n",
    "def country_codes():\n",
    "    \"\"\"\n",
    "    Build country rows from their names, ISO codes, and Numeric\n",
    "    Country Codes.\n",
    "    \"\"\"\n",
    "    cc = (\n",
    "        pd.read_csv(\n",
    "            file_path(\n",
    "                \"Country_List_ISO_3166_Codes_Latitude_Longitude.csv\"),\n",
    "            usecols=[0, 2, 3],\n",
    "            index_col=1,\n",
    "            keep_default_na=False))\n",
    "    #other_codes = pd.read_csv(file_path(\"other.csv\"), index_col=1)\n",
    "\n",
    "    #\n",
    "    cc.columns = column_names\n",
    "    #cc.index.rename(\"Name\")\n",
    "    return cc #pd.concat([cc, other_codes])\n",
    "\n",
    "def other_codes():\n",
    "    other_codes = pd.read_csv(file_path(\"other.csv\"), index_col=1)\n",
    "    other_codes.columns = column_names[0:1]\n",
    "    return other_codes"
   ]
  },
  {
   "cell_type": "code",
   "execution_count": null,
   "metadata": {},
   "outputs": [],
   "source": [
    "world = gos.World(index=list(set(country_codes().index) | set(other_codes().index)))"
   ]
  },
  {
   "cell_type": "code",
   "execution_count": null,
   "metadata": {},
   "outputs": [],
   "source": [
    "gos.Neighborhood.update(country_codes().groupby(\"Alpha-3 code\")[\"Name\"].apply(list).to_dict())\n",
    "gos.Neighborhood.update(other_codes().groupby('ISO')[\"Name\"].apply(list).to_dict())\n",
    "gos.Neighborhood.update(country_codes().groupby(\"Alpha-3 code\")[\"Code\"].apply(list).to_dict())"
   ]
  },
  {
   "cell_type": "markdown",
   "metadata": {},
   "source": [
    "<font color=red>\n",
    "    \n",
    "# Importación de datos\n",
    "\n",
    "### Índice de Libertad\n",
    "\n",
    "El [Índice de Libertad](https://freedomhouse.org/report/freedom-world/freedom-world-2017) procede del Freedom House.\n",
    "\n",
    "Un índice de libertad alto indica un país políticamente libre.\n",
    "</font>\n"
   ]
  },
  {
   "cell_type": "code",
   "execution_count": null,
   "metadata": {},
   "outputs": [],
   "source": [
    "def freedom_index():\n",
    "    \"\"\"\n",
    "    Read data from the Freedom Index.\n",
    "    \"\"\"\n",
    "    # TODO: Add xlrd to requirements.\n",
    "    xl = pd.ExcelFile(file_path(\"Freedom_index.xlsx\"))\n",
    "    xl = xl.parse(1)\n",
    "    xl.set_index(\"Country\")\n",
    "    return xl\n",
    "\n",
    "fi = freedom_index().set_index(\"Country\")\n",
    "fi.columns = [\"Freedom Index\"]\n",
    "fi.plot.hist(bins=10)\n",
    "#print(len(fi))"
   ]
  },
  {
   "cell_type": "markdown",
   "metadata": {},
   "source": [
    "<font color=red>\n",
    "\n",
    "### A/B Values\n",
    "\n",
    "These values are used in the return to skill function. These values are based on each country's income distribution.\n",
    "</font>"
   ]
  },
  {
   "cell_type": "code",
   "execution_count": null,
   "metadata": {},
   "outputs": [],
   "source": [
    "def ab_values():\n",
    "    \"\"\"\n",
    "    Read generated A/B values for each country.\n",
    "    \"\"\"\n",
    "    return pd.read_excel(file_path(\"A&B values for RTS.xlsx\"))\n",
    "\n",
    "ab = ab_values()\n",
    "ab = ab.set_index(\"Country\")\n",
    "#ab.info()\n",
    "#print(ab)\n",
    "ab.plot.hist(subplots=True, sharex=False)"
   ]
  },
  {
   "cell_type": "markdown",
   "metadata": {},
   "source": [
    "<font color=red>\n",
    "\n",
    "### Índice de Pasaporte\n",
    "\n",
    "El [Índice de Pasaporte](https://www.cato.org/human-freedom-index) procede de Arton Capital.\n",
    "\n",
    "Un índice de pasaporte bajo indica un país acogedor.\n",
    "</font>\n"
   ]
  },
  {
   "cell_type": "code",
   "execution_count": null,
   "metadata": {},
   "outputs": [],
   "source": [
    "def passport_index():\n",
    "    \"\"\"\n",
    "    Read data from the Passport Index.\n",
    "    \"\"\"\n",
    "    pi = pd.read_excel(file_path(\"PassportIndex.xlsx\"))\n",
    "    pi = pi.set_index(\"Country\")\n",
    "    pi.columns = [\"Passport Index\"]\n",
    "    return pi\n",
    "\n",
    "pi = passport_index()\n",
    "pi.plot.hist()"
   ]
  },
  {
   "cell_type": "markdown",
   "metadata": {},
   "source": [
    "<font color=red>\n",
    "\n",
    "## Desempleo\n",
    "\n",
    "</font>"
   ]
  },
  {
   "cell_type": "code",
   "execution_count": null,
   "metadata": {},
   "outputs": [],
   "source": [
    "unemployment_data = pd.read_csv(file_path(\"CIA_Unemployment.csv\"), index_col=0, usecols=[1, 2])\n",
    "unemployment_data[\"Unemployment\"] /= 100\n",
    "unemployment_data.plot.hist()"
   ]
  },
  {
   "cell_type": "markdown",
   "metadata": {},
   "source": [
    "<font color=red>\n",
    "\n",
    "## Población\n",
    "\n",
    "</font>"
   ]
  },
  {
   "cell_type": "code",
   "execution_count": null,
   "metadata": {},
   "outputs": [],
   "source": [
    "# Population\n",
    "population = pd.read_csv(file_path(\"newPOP.csv\"))\n",
    "population = population.set_index(\"Country\")\n",
    "population"
   ]
  },
  {
   "cell_type": "code",
   "execution_count": null,
   "metadata": {},
   "outputs": [],
   "source": [
    "world.update_neighborhoods(ab)\n",
    "world.update_neighborhoods(pi)\n",
    "world.update_neighborhoods(unemployment_data)\n",
    "world.update_neighborhoods(population)\n",
    "world.update_neighborhoods(fi)"
   ]
  },
  {
   "cell_type": "markdown",
   "metadata": {},
   "source": [
    "<font color=red>\n",
    "\n",
    "## Lenguaje compartido\n",
    "\n",
    "\\begin{equation}\n",
    "    L_{O\\leftrightarrow D}\\ =\n",
    "    \\begin{cases}\n",
    "        0 & \\text{if origin and destination share a spoken language} \\\\\n",
    "        1 & \\text{otherwise} \\\\\n",
    "    \\end{cases}\n",
    "\\end{equation}\n",
    "\n",
    "</font>"
   ]
  },
  {
   "cell_type": "code",
   "execution_count": null,
   "metadata": {},
   "outputs": [],
   "source": [
    "lang_csv = pd.read_csv(file_path(\"languages.csv\"), index_col=0)\n",
    "lang_sets = [set([str(y).strip() for y in x[1] if y != ' ']) for x in lang_csv.iterrows()]\n",
    "overlap = []\n",
    "for s in lang_sets:\n",
    "    o = []\n",
    "    for i in range(len(lang_sets)):\n",
    "        o.append(len(lang_sets[i].intersection(s)) >= 1)\n",
    "    overlap.append(o)\n",
    "lang_data = pd.DataFrame(overlap, index=lang_csv.index, columns=lang_csv.index)\n",
    "print(len(lang_data))\n",
    "world.add_matrix(\"language\", 1-lang_data)"
   ]
  },
  {
   "cell_type": "markdown",
   "metadata": {},
   "source": [
    "<font color=red>\n",
    "\n",
    "## UN Migration History\n",
    "\n",
    "</font>"
   ]
  },
  {
   "cell_type": "code",
   "execution_count": null,
   "metadata": {},
   "outputs": [],
   "source": [
    "un_pd = pd.read_excel(\n",
    "        file_path(\n",
    "            \"UN_MigrantStockByOriginAndDestination_2015.xlsx\"\n",
    "        ),\n",
    "        skiprows=15\n",
    "    )\n",
    "un_pd = un_pd.set_index('Unnamed: 1')\n",
    "un_pd = un_pd.iloc[0:275,7:250]\n",
    "\n",
    "# TODO: Should we be using the UN numbers for this?\n",
    "un_pd = un_pd.sort_index().fillna(1)\n",
    "world.add_matrix(\"un\", un_pd)"
   ]
  },
  {
   "cell_type": "markdown",
   "metadata": {},
   "source": [
    "<font color=blue>\n",
    "\n",
    "# Calculaciones\n",
    "\n",
    "</font>"
   ]
  },
  {
   "cell_type": "markdown",
   "metadata": {},
   "source": [
    "<font color=blue>\n",
    "\n",
    "## Distancia\n",
    "\n",
    "La distancia ortodrómica entre la latitud y la longitud promedio de cada país se utiliza para determinar la distancia entre cada par de países. Una mayor distancia entre países corresponde a un mayor costo de la migración.\n",
    "\n",
    "</font>"
   ]
  },
  {
   "cell_type": "code",
   "execution_count": null,
   "metadata": {},
   "outputs": [],
   "source": [
    "distance_frame = pd.read_csv(\n",
    "    file_path(\"Country_List_ISO_3166_Codes_Latitude_Longitude.csv\"),\n",
    "    usecols=[2,4,5],\n",
    "    index_col=0,\n",
    "    keep_default_na=False)\n",
    "locations = [(x[1][0], x[1][1]) for x in distance_frame.iterrows()]\n",
    "rows = []\n",
    "for i in range(len(locations)):\n",
    "    row = []\n",
    "    for loc in locations:\n",
    "        row.append(haversine(loc, locations[i]))\n",
    "    rows.append(row)\n",
    "distance = pd.DataFrame(rows, distance_frame.index, distance_frame.index)\n",
    "world.add_matrix(\"distance\", distance / distance.max().max())"
   ]
  },
  {
   "cell_type": "markdown",
   "metadata": {},
   "source": [
    "<font color=blue>\n",
    "\n",
    "# Edición de los valores de las variables\n",
    "\n",
    "Elimine el \"#\" y cambie los valores para simular mejor su escenario\n",
    "\n",
    "Para restablecer los valores, ejecute todas las celdas anteriores\n",
    "\n",
    "</font>"
   ]
  },
  {
   "cell_type": "code",
   "execution_count": null,
   "metadata": {},
   "outputs": [],
   "source": [
    "pd.options.mode.chained_assignment = None  # default='warn'\n",
    "\n",
    "#world.data[\"Freedom Index\"][\"AUS\"]=50\n",
    "#world.data[\"Passport Index\"][\"AUS\"]=80\n",
    "#world.data[\"Unemployment\"][\"AUS\"]=.058\n",
    "#world.data[\"Population\"][\"AUS\"]=8000000\n",
    "#world.matrices[\"un\"][\"AUS\"][\"USA\"]=77845"
   ]
  },
  {
   "cell_type": "markdown",
   "metadata": {},
   "source": [
    "<font color=blue>\n",
    "\n",
    "## Calculate \"RTS\".\n",
    "This function measures income potential in a given country based on an agent's skill level (x).\n",
    "\n",
    "It takes the form:\n",
    "\\begin{equation}\n",
    "RTS = Ae^{Bx}\n",
    "\\end{equation}\n",
    "Where A and B are constants unique to each country\n",
    "\n",
    "</font>"
   ]
  },
  {
   "cell_type": "code",
   "execution_count": null,
   "metadata": {},
   "outputs": [],
   "source": [
    "world.update_neighborhoods(pd.Series(world.data[\"A\"] * e ** (world.data[\"B\"] * skill.value)), \"rts\")"
   ]
  },
  {
   "cell_type": "markdown",
   "metadata": {},
   "source": [
    "<font color=blue>\n",
    "\n",
    "## Country Beta Values\n",
    "This function sets the beta value to amplify costs.  It is related to RTS but independent.\n",
    "    \n",
    "It takes the form:\n",
    "    \\begin{equation}\n",
    "    \\beta = Ae^{Bz}\n",
    "    \\end{equation}\n",
    "    Where z is a tuning parameter to help in output validation.\n",
    "    \n",
    "It used in the following governing model equation:\n",
    "\\begin{equation}\n",
    "E(W_D)>W_O + \\beta * C    \n",
    "\\end{equation}\n",
    "\n",
    "</font>"
   ]
  },
  {
   "cell_type": "code",
   "execution_count": null,
   "metadata": {},
   "outputs": [],
   "source": [
    "world.update_neighborhoods(pd.Series(world.data[\"A\"] * e ** (world.data[\"B\"] * 82)), \"beta\")"
   ]
  },
  {
   "cell_type": "markdown",
   "metadata": {},
   "source": [
    "<font color=blue>\n",
    "\n",
    "\n",
    "## Freedom Index difference\n",
    "\\begin{equation}\n",
    "\\frac{FI_D-FI_O}{100}\n",
    "\\end{equation}\n",
    "\n",
    "This value weighs the origin and destination FI values against eachother.\n",
    "\n",
    "</font>"
   ]
  },
  {
   "cell_type": "code",
   "execution_count": null,
   "metadata": {},
   "outputs": [],
   "source": [
    "world.data[\"Freedom Index\"]"
   ]
  },
  {
   "cell_type": "code",
   "execution_count": null,
   "metadata": {},
   "outputs": [],
   "source": [
    "rows=[]\n",
    "for i in range(len(world.data[\"Freedom Index\"])):\n",
    "    row = []\n",
    "    for freedom_index in world.data[\"Freedom Index\"]:\n",
    "        diff=(world.data[\"Freedom Index\"][i] - freedom_index)/100.0\n",
    "        row.append(diff)\n",
    "    rows.append(row)\n",
    "    print(row)\n",
    "fi_diff = (pd.DataFrame(rows, world.data[\"Freedom Index\"].index, world.data[\"Freedom Index\"].index))\n",
    "print(fi_diff)"
   ]
  },
  {
   "cell_type": "markdown",
   "metadata": {},
   "source": [
    "<font color=blue>\n",
    "\n",
    "\n",
    "## Political Barriers\n",
    "$$  PB = \\delta_1 \\frac{PI_{D}}{100} +  \\delta_2 (1-\\frac{(FI_D-FI_O)}{100}) $$\n",
    "\n",
    "Political barriers combines passport index rank (PI) and freedom index scores (FI) for each country. The greater the value, the higher the cost of migration.\n",
    "\n",
    "<font color=blue>\n"
   ]
  },
  {
   "cell_type": "code",
   "execution_count": null,
   "metadata": {},
   "outputs": [],
   "source": [
    "# default delta values, do not edit this cell\n",
    "delta1=.1\n",
    "delta2=.9"
   ]
  },
  {
   "cell_type": "markdown",
   "metadata": {},
   "source": [
    "### Edición de los deltas\n",
    "\n",
    "Elimine el \"#\" y cambie los valores para simular mejor su escenario\n",
    "\n",
    "Para restablecer los valores, ejecute todas las celdas anteriores"
   ]
  },
  {
   "cell_type": "code",
   "execution_count": null,
   "metadata": {},
   "outputs": [],
   "source": [
    "#delta1=.1\n",
    "#delta2=.9"
   ]
  },
  {
   "cell_type": "code",
   "execution_count": null,
   "metadata": {},
   "outputs": [],
   "source": [
    "political_barriers=delta1*world.data[\"Passport Index\"]/100.0 + delta2*(1 - fi_diff)\n",
    "print(political_barriers)"
   ]
  },
  {
   "cell_type": "code",
   "execution_count": null,
   "metadata": {},
   "outputs": [],
   "source": [
    "world.add_matrix(\"Political Barriers\", political_barriers)"
   ]
  },
  {
   "cell_type": "markdown",
   "metadata": {},
   "source": [
    "<font color=blue>\n",
    "\n",
    "\n",
    "## Migration History\n",
    "Out Migration:  \n",
    "\\begin{equation} OM_{O\\rightarrow D}\\ = \\frac {\\text {migrants from origin in destination}} {\\text {population of origin}} \\end{equation}\n",
    "\n",
    "Ethnic Enclave:\n",
    "\\begin{equation} EE_{O\\leftrightarrow D}\\ = \\frac {\\text{migrants from origin in destination}} {\\text {population of destination.}} \\end{equation}\n",
    "\n",
    "Migration History:\n",
    "\\begin{equation}\n",
    "MH_{O\\rightarrow D}\\ = \\gamma_1 (1-OM_{O\\rightarrow D})\\ + \\gamma_2 (1-EE_{O\\rightarrow D})\n",
    "\\end{equation}\n",
    "\n",
    "</font>"
   ]
  },
  {
   "cell_type": "code",
   "execution_count": null,
   "metadata": {},
   "outputs": [],
   "source": [
    "# default gamma values, do not edit this cell\n",
    "gamma1=.5\n",
    "gamma2=.5"
   ]
  },
  {
   "cell_type": "markdown",
   "metadata": {},
   "source": [
    "### Edición de los gammas\n",
    "\n",
    "Elimine el \"#\" y cambie los valores para simular mejor su escenario\n",
    "\n",
    "Para restablecer los valores, ejecute todas las celdas anteriores"
   ]
  },
  {
   "cell_type": "code",
   "execution_count": null,
   "metadata": {},
   "outputs": [],
   "source": [
    "#gamma1=.5\n",
    "#gamma2=.5"
   ]
  },
  {
   "cell_type": "code",
   "execution_count": null,
   "metadata": {},
   "outputs": [],
   "source": [
    "OM=world.matrices['un'].sort_index(axis=1).sort_index(axis=0)/world.data['Population']\n",
    "#transpose UN matrix for this calculation so that we are dividing by population of destination\n",
    "EE=world.matrices['un'].T.sort_index(axis=1).sort_index(axis=0)/world.data['Population']\n",
    "EE=EE.T\n",
    "MH=gamma1*(OM)+gamma2*(EE)\n",
    "#print(MH)\n",
    "max_MH = MH.max().nlargest(10).mean()\n",
    "#print(max_MH)\n",
    "MH = 1 - (MH/max_MH)\n",
    "MH[MH<0] = 0\n",
    "print(MH)"
   ]
  },
  {
   "cell_type": "code",
   "execution_count": null,
   "metadata": {},
   "outputs": [],
   "source": [
    "world.add_matrix(\"Migration History\", MH)"
   ]
  },
  {
   "cell_type": "markdown",
   "metadata": {},
   "source": [
    "<font color=blue>\n",
    "\n",
    "# Costo\n",
    "\n",
    "</font>\n"
   ]
  },
  {
   "cell_type": "markdown",
   "metadata": {},
   "source": [
    "<font color=blue>\n",
    "\n",
    "\n",
    "El costo de la migración entre un origen y un destino es la media ponderada de la distancia, el historial migratorio, el idioma compartido y las barreras políticas entre los dos países.\n",
    "\n",
    "\\begin{equation}\n",
    "C = { \\alpha_1 \\frac{D_{O\\leftrightarrow D}} {D_{Max}} + \\alpha_2 MH_{O\\rightarrow D}  + \\alpha_3 L_{O\\leftrightarrow D} + \\alpha_4 PB}\n",
    "\\end{equation}\n",
    "\n",
    "</font>"
   ]
  },
  {
   "cell_type": "code",
   "execution_count": null,
   "metadata": {},
   "outputs": [],
   "source": [
    "# default alpha values, do not edit this cell\n",
    "alpha1=.3\n",
    "alpha2=.5\n",
    "alpha3=.1\n",
    "alpha4=.1"
   ]
  },
  {
   "cell_type": "markdown",
   "metadata": {},
   "source": [
    "### Edición de los alphas\n",
    "\n",
    "Elimine el \"#\" y cambie los valores para simular mejor su escenario\n",
    "\n",
    "Para restablecer los valores, ejecute todas las celdas anteriores"
   ]
  },
  {
   "cell_type": "code",
   "execution_count": null,
   "metadata": {},
   "outputs": [],
   "source": [
    "#alpha1=.3\n",
    "#alpha2=.5\n",
    "#alpha3=.1\n",
    "#alpha4=.1"
   ]
  },
  {
   "cell_type": "code",
   "execution_count": null,
   "metadata": {},
   "outputs": [],
   "source": [
    "# Cost\n",
    "\n",
    "c = (alpha1*world.matrices[\"distance\"] +\n",
    "     alpha2*world.matrices[\"Migration History\"] +\n",
    "     alpha3*world.matrices[\"language\"] +\n",
    "     alpha4*world.matrices[\"Political Barriers\"])\n",
    "world.add_matrix(\"cost\", c * world.data['beta'])"
   ]
  },
  {
   "cell_type": "code",
   "execution_count": null,
   "metadata": {},
   "outputs": [],
   "source": [
    "map_plot(world.matrices[\"cost\"][\"SYR\"], title=\"Costs (SYR)\")"
   ]
  },
  {
   "cell_type": "code",
   "execution_count": null,
   "metadata": {},
   "outputs": [],
   "source": [
    "map_plot(world.matrices[\"cost\"][\"FRA\"], title=\"Costs (FRA)\")"
   ]
  },
  {
   "cell_type": "code",
   "execution_count": null,
   "metadata": {},
   "outputs": [],
   "source": [
    "world.update_neighborhoods((1 - world.data[\"Unemployment\"]) * world.data[\"rts\"], \"wages\")"
   ]
  },
  {
   "cell_type": "code",
   "execution_count": null,
   "metadata": {},
   "outputs": [],
   "source": [
    "map_plot(world.data[\"wages\"], title=\"Wages\")"
   ]
  },
  {
   "cell_type": "code",
   "execution_count": null,
   "metadata": {},
   "outputs": [],
   "source": [
    "#beta = world.data.rts.mean()\n",
    "#beta = RTS_list.median()\n",
    "\n",
    "world.add_matrix(\"migration\", (pd.DataFrame(\n",
    "    np.array(\n",
    "        [[x] * len(world.data) for x in world.data[\"wages\"].values]\n",
    "    ) - np.array(\n",
    "        [list(world.data[\"wages\"].values)] * len(world.data)\n",
    "    ),\n",
    "    world.data.index,\n",
    "    world.data.index\n",
    "    )  - world.matrices[\"cost\"]).clip(lower=0))\n",
    "world.matrices[\"migration\"] = world.matrices[\"migration\"] / (world.matrices[\"migration\"].sum() + 1)\n",
    "world.matrices[\"migration\"] = world.matrices[\"migration\"] / world.matrices[\"migration\"].sum(axis=1).max()\n",
    "\n",
    "# TODO: Why does this require being transposed?\n",
    "world.matrices[\"migration\"] = (0.15 * world.matrices[\"migration\"].transpose() * world.data[\"Population\"]).transpose()\n",
    "\n",
    "world.matrices[\"migration\"]"
   ]
  },
  {
   "cell_type": "code",
   "execution_count": null,
   "metadata": {},
   "outputs": [],
   "source": [
    "map_plot(\n",
    "   world.matrices[\"migration\"].sum(axis=1)+1,\n",
    "   title=\"Immigration Estimations (x={})\".format(skill.value),\n",
    "   normc=matplotlib.colors.LogNorm\n",
    ")"
   ]
  },
  {
   "cell_type": "code",
   "execution_count": null,
   "metadata": {},
   "outputs": [],
   "source": [
    "map_plot(\n",
    "   world.matrices[\"migration\"].sum(),\n",
    "   title=\"Estimated Number of Emigrants (x={})\".format(skill.value),\n",
    "   normc=matplotlib.colors.Normalize\n",
    ")"
   ]
  },
  {
   "cell_type": "code",
   "execution_count": null,
   "metadata": {},
   "outputs": [],
   "source": [
    "map_plot(\n",
    "   world.matrices[\"migration\"].sum(axis=1) - world.matrices[\"migration\"].sum(),\n",
    "   title=\"Net Migration (x={})\".format(skill.value),\n",
    "   normc=gos.visualization.MidPointNorm\n",
    ")"
   ]
  },
  {
   "cell_type": "markdown",
   "metadata": {},
   "source": [
    "<font color=purple>\n",
    "\n",
    "# Definición de vectores\n",
    "\n",
    "</font>"
   ]
  },
  {
   "cell_type": "code",
   "execution_count": null,
   "metadata": {},
   "outputs": [],
   "source": [
    "immigration = world.matrices[\"migration\"].sum(axis=1)+1\n",
    "emigration = world.matrices[\"migration\"].sum()\n",
    "net_migration = world.matrices[\"migration\"].sum(axis=1) - world.matrices[\"migration\"].sum()"
   ]
  },
  {
   "cell_type": "markdown",
   "metadata": {},
   "source": [
    "<font color=purple>\n",
    "\n",
    "# Comparando 2 países\n",
    "\n",
    "</font>"
   ]
  },
  {
   "cell_type": "markdown",
   "metadata": {},
   "source": [
    "Editar países\n",
    "\n",
    "Cambie los valores de los códigos de país para simular mejor su escenario"
   ]
  },
  {
   "cell_type": "code",
   "execution_count": null,
   "metadata": {},
   "outputs": [],
   "source": [
    "country_1 = \"AUS\"\n",
    "country_2 = \"ALB\""
   ]
  },
  {
   "cell_type": "code",
   "execution_count": null,
   "metadata": {},
   "outputs": [],
   "source": [
    "one_to_two = int(world.matrices[\"migration\"][country_1][country_2])"
   ]
  },
  {
   "cell_type": "code",
   "execution_count": null,
   "metadata": {},
   "outputs": [],
   "source": [
    "two_to_one = int(world.matrices[\"migration\"][country_2][country_1])"
   ]
  },
  {
   "cell_type": "code",
   "execution_count": null,
   "metadata": {},
   "outputs": [],
   "source": [
    "import networkx as nx\n",
    "import matplotlib.pyplot as plt\n",
    "\n",
    "\n",
    "G = nx.DiGraph()\n",
    "G.add_nodes_from([country_1, country_2])\n",
    "\n",
    "\n",
    "# graphing\n",
    "pos = {country_1: (1, 0), country_2: (2, 0)}\n",
    "\n",
    "plt.figure(figsize=(8,2.3))\n",
    "nx.draw(G, pos, with_labels=True, node_size=1500, node_color=\"skyblue\", font_size=15, arrows=True)\n",
    "\n",
    "# plotting arrows\n",
    "pos2 = {country_1: (1.05, 0), country_2: (1.95, 0)}\n",
    "nx.draw_networkx_edges(G, pos2, edgelist=[(country_1, country_2)], width=1, arrows=True, connectionstyle='arc3, rad=0.3', arrowstyle='->')\n",
    "nx.draw_networkx_edges(G, pos2, edgelist=[(country_2, country_1)], width=1, arrows=True, connectionstyle='arc3, rad=0.3', arrowstyle='->', label='Label 1')\n",
    "\n",
    "# labels\n",
    "plt.text(1.5, -0.6, one_to_two, ha='center', va='center')\n",
    "plt.text(1.5, 0.6, two_to_one, ha='center', va='center')\n",
    "\n",
    "# plotting\n",
    "plt.title('Migration flux', pad=70, size=30)\n",
    "# Adjust margins\n",
    "plt.margins(y=0.8)\n",
    "plt.show()"
   ]
  },
  {
   "cell_type": "code",
   "execution_count": null,
   "metadata": {},
   "outputs": [],
   "source": [
    "immigration['USA']"
   ]
  },
  {
   "cell_type": "markdown",
   "metadata": {},
   "source": [
    "<font color=purple>\n",
    "\n",
    "\n",
    "# Exporting Data\n",
    "\n",
    "</font>"
   ]
  },
  {
   "cell_type": "markdown",
   "metadata": {},
   "source": [
    "<font color=purple>\n",
    "\n",
    "Exportación de datos\n",
    "- Para exportar los siguientes datos, elimine el \"#\" y ejecute la celda.\n",
    "- Los archivos excel aparecerán en la carpeta de datos bajo GOS/examples/multiscale-migration/data.\n",
    "- Cambie los nombres de los archivos (en rojo) cada vez que desee crear una hoja de cálculo con nuevos resultados. De lo contrario, los nuevos cambios anularán las hojas de cálculo originales.\n",
    "\n",
    "</font>"
   ]
  },
  {
   "cell_type": "code",
   "execution_count": null,
   "metadata": {},
   "outputs": [],
   "source": [
    "immigration.to_excel(\"data/baseline_immigration.xlsx\")\n",
    "emigration.to_excel(\"data/baseline_emigration.xlsx\")\n",
    "net_migration.to_excel(\"data/baseline_net_migration.xlsx\")"
   ]
  }
 ],
 "metadata": {
  "colab": {
   "provenance": []
  },
  "kernelspec": {
   "display_name": "Python 3 (ipykernel)",
   "language": "python",
   "name": "python3"
  },
  "language_info": {
   "codemirror_mode": {
    "name": "ipython",
    "version": 3
   },
   "file_extension": ".py",
   "mimetype": "text/x-python",
   "name": "python",
   "nbconvert_exporter": "python",
   "pygments_lexer": "ipython3"
  }
 },
 "nbformat": 4,
 "nbformat_minor": 0
}
