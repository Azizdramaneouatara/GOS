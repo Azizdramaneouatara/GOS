{
 "cells": [
  {
   "cell_type": "markdown",
   "metadata": {},
   "source": [
    "# Schelling's Model of Segregation\n",
    "\n",
    "An example of an agent-based model created using the Global Open Simulator (GOS).\n",
    "\n",
    "**This is a work in progress.**\n",
    "\n",
    "The model uses cellular automata.\n",
    "\n",
    "```biblatex\n",
    "@article{schelling1971dynamic,\n",
    "  title={Dynamic models of segregation},\n",
    "  author={Schelling, Thomas C},\n",
    "  journal={Journal of mathematical sociology},\n",
    "  volume={1},\n",
    "  number={2},\n",
    "  pages={143--186},\n",
    "  year={1971},\n",
    "  publisher={Taylor \\& Francis}\n",
    "}\n",
    "```"
   ]
  },
  {
   "cell_type": "code",
   "execution_count": null,
   "metadata": {},
   "outputs": [],
   "source": [
    "%cd ~/research/migration/GOS/\n",
    "\n",
    "import gos\n",
    "import pandas as pd\n",
    "import numpy as np\n",
    "from collections import Counter\n",
    "from random import randint, shuffle\n",
    "\n",
    "# % matplotlib inline\n",
    "import matplotlib.pylab as plt\n",
    "\n",
    "from multiprocessing import Queue\n",
    "\n",
    "from IPython.display import HTML\n",
    "\n",
    "plt.style.use('ggplot')"
   ]
  },
  {
   "cell_type": "code",
   "execution_count": null,
   "metadata": {},
   "outputs": [],
   "source": [
    "AGENT_NUM = 1000\n",
    "GRID_SIZE = (32, 32)\n",
    "THRESHOLD = float(3 + 1) / 9"
   ]
  },
  {
   "cell_type": "code",
   "execution_count": null,
   "metadata": {},
   "outputs": [],
   "source": [
    "grid_x, grid_y = np.mgrid[0:GRID_SIZE[0]:1,0:GRID_SIZE[1]:1]\n",
    "\n",
    "blank = pd.DataFrame({\n",
    "        'x': np.ndarray.flatten(grid_x),\n",
    "        'y': np.ndarray.flatten(grid_y),\n",
    "    })\n",
    "\n",
    "# These will be the spaces on the grid which don't have agents.\n",
    "remove = np.random.choice(\n",
    "    np.arange(GRID_SIZE[0]*GRID_SIZE[1]),\n",
    "    GRID_SIZE[0]*GRID_SIZE[1] - AGENT_NUM,\n",
    "    replace=False\n",
    ")\n",
    "# initialize agents on the grid.\n",
    "data = pd.DataFrame({\n",
    "    'type': np.random.randint(0, 2, AGENT_NUM),\n",
    "    'x': np.delete(np.ndarray.flatten(grid_x), remove),\n",
    "    'y': np.delete(np.ndarray.flatten(grid_y), remove),\n",
    "})\n",
    "data[0:5]"
   ]
  },
  {
   "cell_type": "code",
   "execution_count": null,
   "metadata": {},
   "outputs": [],
   "source": [
    "def get_grid_vals():\n",
    "    return pd.merge(blank, data, on=['x', 'y'], how='left')\n",
    "\n",
    "def get_grid():\n",
    "    return get_grid_vals()[\"type\"].values.reshape((GRID_SIZE[0], GRID_SIZE[1]))\n",
    "\n",
    "def neighbors(x, y):\n",
    "    d = 1\n",
    "    x1 = x-d\n",
    "    y1 = y-d\n",
    "    if x1 < 0:\n",
    "        x1 = 0\n",
    "    if y1 < 0:\n",
    "        y1 = 0\n",
    "    return grid[x1:x+d+1, y1:y+d+1].flatten()\n",
    "\n",
    "def happy(row):\n",
    "    type = row[\"type\"]\n",
    "    near = [x for x in neighbors(row[\"x\"], row[\"y\"]) if np.isfinite(x)]\n",
    "    near = Counter(near)\n",
    "    if type in near:\n",
    "        return near[type] > sum(near.values()) * THRESHOLD\n",
    "    return False\n",
    "\n",
    "data['happy'] = None\n",
    "grid = get_grid()\n"
   ]
  },
  {
   "cell_type": "code",
   "execution_count": null,
   "metadata": {},
   "outputs": [],
   "source": [
    "def get_open():\n",
    "    g = get_grid_vals()\n",
    "    return [tuple(x) for x in g[g[\"type\"].isnull()][[\"x\", \"y\"]].values]\n",
    "\n",
    "fig2 = plt.figure(figsize=(5,5))\n",
    "\n",
    "def interate():\n",
    "    grid = get_grid()\n",
    "    q = get_open()\n",
    "\n",
    "    for i, row in data[data[\"happy\"] == False].iterrows():\n",
    "        x, y = q.pop()\n",
    "        q.insert(randint(0, len(q)), (row[\"x\"], row[\"y\"]))\n",
    "        data.loc[i, 'x'] = int(x)\n",
    "        data.loc[i, 'y'] = int(y)\n",
    "\n",
    "    # Split this back into two processes. \n",
    "    for i, row in data.iterrows():\n",
    "        data.loc[i, 'happy'] = happy(row)\n",
    "    \n",
    "    #print(len(data[data['happy'] == True]) / len(data[data['happy'].notnull()]))\n",
    "    return get_grid()"
   ]
  },
  {
   "cell_type": "code",
   "execution_count": null,
   "metadata": {},
   "outputs": [],
   "source": [
    "import matplotlib.animation as animation\n",
    "\n",
    "ims = []\n",
    "for _ in range(60):\n",
    "    img = plt.imshow(interate(), animated=True)\n",
    "    ims.append([img])\n",
    "\n",
    "im_ani = animation.ArtistAnimation(fig2, ims, interval=100, repeat_delay=1000, blit=True)\n",
    "\n",
    "HTML(im_ani.to_jshtml())"
   ]
  }
 ],
 "metadata": {
  "kernelspec": {
   "display_name": "Python 3",
   "language": "python",
   "name": "python3"
  },
  "language_info": {
   "codemirror_mode": {
    "name": "ipython",
    "version": 3
   },
   "file_extension": ".py",
   "mimetype": "text/x-python",
   "name": "python",
   "nbconvert_exporter": "python",
   "pygments_lexer": "ipython3"
  }
 },
 "nbformat": 4,
 "nbformat_minor": 2
}
