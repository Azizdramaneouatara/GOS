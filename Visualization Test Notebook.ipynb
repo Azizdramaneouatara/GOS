{
 "cells": [
  {
   "cell_type": "code",
   "execution_count": null,
   "metadata": {},
   "outputs": [],
   "source": [
    "from gos import World, Neighborhood\n",
    "from gos import visualization \n",
    "import matplotlib\n",
    "import pandas as pd"
   ]
  },
  {
   "cell_type": "code",
   "execution_count": null,
   "metadata": {},
   "outputs": [],
   "source": [
    "def file_path(name):\n",
    "    \"\"\"\n",
    "    Shortcut function to get the relative path to the directory\n",
    "    which contains the data.\n",
    "    \"\"\"\n",
    "    return \"./examples/multiscale-migration/data/%s\" % name"
   ]
  },
  {
   "cell_type": "code",
   "execution_count": null,
   "metadata": {},
   "outputs": [],
   "source": [
    "column_names = [\"Name\", \"Code\"]\n",
    "\n",
    "def country_codes():\n",
    "    \"\"\"\n",
    "    Build country rows from their names, ISO codes, and Numeric\n",
    "    Country Codes.\n",
    "    \"\"\"\n",
    "    cc = (\n",
    "        pd.read_csv(\n",
    "            file_path(\n",
    "                \"Country_List_ISO_3166_Codes_Latitude_Longitude.csv\"),\n",
    "            usecols=[0, 2, 3],\n",
    "            index_col=1,\n",
    "            keep_default_na=False))\n",
    "    cc.columns = column_names\n",
    "    return cc\n",
    "\n",
    "def other_codes():\n",
    "    other_codes = pd.read_csv(file_path(\"other.csv\"), index_col=1)\n",
    "    other_codes.columns = column_names[0:1]\n",
    "    return other_codes\n",
    "\n",
    "world = World(index=set(country_codes().index) | set(other_codes().index))\n",
    "Neighborhood.update(country_codes().groupby(\"Alpha-3 code\")[\"Name\"].apply(list).to_dict())\n",
    "Neighborhood.update(other_codes().groupby('ISO')[\"Name\"].apply(list).to_dict())\n",
    "Neighborhood.update(country_codes().groupby(\"Alpha-3 code\")[\"Code\"].apply(list).to_dict())"
   ]
  },
  {
   "cell_type": "code",
   "execution_count": null,
   "metadata": {},
   "outputs": [],
   "source": [
    "population = pd.read_csv(file_path(\"newPOP.csv\"))\n",
    "population = population.set_index(\"Country\")\n",
    "\n",
    "world.update_neighborhoods(population)"
   ]
  },
  {
   "cell_type": "code",
   "execution_count": null,
   "metadata": {},
   "outputs": [],
   "source": [
    "un_pd = pd.read_excel(\n",
    "        file_path(\n",
    "            \"UN_MigrantStockByOriginAndDestination_2015.xlsx\"\n",
    "        ),\n",
    "        skiprows=15\n",
    "    )\n",
    "un_pd = un_pd.set_index('Unnamed: 1')\n",
    "un_pd = un_pd.iloc[0:275,7:250]\n",
    "\n",
    "# TODO: Should we be using the UN numbers for this?\n",
    "un_pd = un_pd.sort_index().fillna(1)\n",
    "world.add_matrix(\"un\", un_pd)"
   ]
  },
  {
   "cell_type": "code",
   "execution_count": null,
   "metadata": {},
   "outputs": [],
   "source": [
    "visualization.matrix_plot(world.matrices[\"un\"].iloc[:25, :25])"
   ]
  },
  {
   "cell_type": "code",
   "execution_count": null,
   "metadata": {},
   "outputs": [],
   "source": [
    "visualization.map_plot(world.data[\"Population\"])"
   ]
  },
  {
   "cell_type": "code",
   "execution_count": null,
   "metadata": {},
   "outputs": [],
   "source": [
    "visualization.map_plot(\n",
    "    world.data[\"Population\"] - world.data[\"Population\"][\"USA\"],\n",
    "    title=\"Population compared to U.S.\"\n",
    ")"
   ]
  }
 ],
 "metadata": {
  "kernelspec": {
   "display_name": "Python 3",
   "language": "python",
   "name": "python3"
  },
  "language_info": {
   "codemirror_mode": {
    "name": "ipython",
    "version": 3
   },
   "file_extension": ".py",
   "mimetype": "text/x-python",
   "name": "python",
   "nbconvert_exporter": "python",
   "pygments_lexer": "ipython3"
  }
 },
 "nbformat": 4,
 "nbformat_minor": 2
}
